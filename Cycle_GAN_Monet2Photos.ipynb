{
 "cells": [
  {
   "cell_type": "code",
   "execution_count": null,
   "metadata": {
    "id": "9jcz6c-92k_t"
   },
   "outputs": [],
   "source": [
    "!pip install torch_snippets torch_summary --quiet\n",
    "import itertools\n",
    "from PIL import Image\n",
    "from torch_snippets import *\n",
    "from torchvision import transforms\n",
    "from torchvision.utils import make_grid\n",
    "from torchsummary import summary"
   ]
  },
  {
   "cell_type": "markdown",
   "metadata": {
    "id": "yx04t6bIYEMt"
   },
   "source": [
    "### Defining image transformations (augmentation)"
   ]
  },
  {
   "cell_type": "code",
   "execution_count": 8,
   "metadata": {
    "id": "egr96yTBWzbs"
   },
   "outputs": [],
   "source": [
    "IMAGE_SIZE = 256\n",
    "device = 'cuda' if torch.cuda.is_available() else 'cpu'\n",
    "transform = transforms.Compose([\n",
    "    transforms.Resize(int(IMAGE_SIZE*1.33)),\n",
    "    transforms.RandomCrop((IMAGE_SIZE,IMAGE_SIZE)),\n",
    "    transforms.RandomHorizontalFlip(),\n",
    "    transforms.ToTensor(),\n",
    "    transforms.Normalize((0.5, 0.5, 0.5), (0.5, 0.5, 0.5)),\n",
    "])"
   ]
  },
  {
   "cell_type": "markdown",
   "metadata": {
    "id": "yIumRNSZYI3y"
   },
   "source": [
    "### Making our Train and Test Dataset\n"
   ]
  },
  {
   "cell_type": "code",
   "execution_count": 9,
   "metadata": {
    "id": "iATOUJp0YF7q"
   },
   "outputs": [],
   "source": [
    "class Monet2PhotoDataset(Dataset):\n",
    "    def __init__(self, monet, photo):\n",
    "        ### getting the list of images\n",
    "        self.monet = Glob(monet)\n",
    "        self.photo = Glob(photo)\n",
    "\n",
    "    def __getitem__(self, ix):\n",
    "        monet = self.monet[ix % len(self.monet)]\n",
    "        ### Choosing a random zebra image to pair with the chosen horse image\n",
    "        photo = choose(self.photo)\n",
    "        monet = Image.open(monet).convert('RGB')\n",
    "        photo = Image.open(photo).convert('RGB')\n",
    "        return monet, photo\n",
    "\n",
    "    def __len__(self): return max(len(self.monet), len(self.photo))\n",
    "    def choose(self): return self[randint(len(self))]\n",
    "\n",
    "    def collate_fn(self, batch): #batch function\n",
    "        ### The zip function breaks the tuples into two lists\n",
    "        srcs, trgs = list(zip(*batch))\n",
    "\n",
    "        srcs = torch.cat([transform(img)[None] for img in srcs], 0).to(device).float()\n",
    "        trgs = torch.cat([transform(img)[None] for img in trgs], 0).to(device).float()\n",
    "        return srcs.to(device), trgs.to(device)"
   ]
  },
  {
   "cell_type": "markdown",
   "metadata": {
    "id": "DnI7S8XWYf8w"
   },
   "source": [
    "### Initializing the Data Loader"
   ]
  },
  {
   "cell_type": "code",
   "execution_count": 10,
   "metadata": {
    "id": "k9ZbkZ5TYdE0"
   },
   "outputs": [],
   "source": [
    "trn_ds = Monet2PhotoDataset('trainA', 'trainB')\n",
    "val_ds = Monet2PhotoDataset('testA', 'testB')\n",
    "\n",
    "trn_dl = DataLoader(trn_ds, batch_size=1, shuffle=True, collate_fn=trn_ds.collate_fn)\n",
    "val_dl = DataLoader(val_ds, batch_size=5, shuffle=True, collate_fn=val_ds.collate_fn)"
   ]
  },
  {
   "cell_type": "code",
   "execution_count": 11,
   "metadata": {
    "id": "OK6nbCy1Yl2z"
   },
   "outputs": [],
   "source": [
    "def weights_init_normal(m):\n",
    "    classname = m.__class__.__name__\n",
    "    if classname.find(\"Conv\") != -1:\n",
    "        torch.nn.init.normal_(m.weight.data, 0.0, 0.02)\n",
    "        if hasattr(m, \"bias\") and m.bias is not None:\n",
    "            torch.nn.init.constant_(m.bias.data, 0.0)\n",
    "    elif classname.find(\"BatchNorm2d\") != -1:\n",
    "        torch.nn.init.normal_(m.weight.data, 1.0, 0.02)\n",
    "        torch.nn.init.constant_(m.bias.data, 0.0)"
   ]
  },
  {
   "cell_type": "markdown",
   "metadata": {
    "id": "zViFZO7faKdo"
   },
   "source": [
    "### Defining a Residual Block"
   ]
  },
  {
   "cell_type": "code",
   "execution_count": 12,
   "metadata": {
    "id": "3J-i0FoMaHoW"
   },
   "outputs": [],
   "source": [
    "class ResidualBlock(nn.Module):\n",
    "    def __init__(self, in_features):\n",
    "        super(ResidualBlock, self).__init__()\n",
    "\n",
    "        self.block = nn.Sequential(\n",
    "            nn.ReflectionPad2d(1),\n",
    "            nn.Conv2d(in_features, in_features, 3),\n",
    "            nn.InstanceNorm2d(in_features),\n",
    "            nn.ReLU(inplace=True),\n",
    "            nn.ReflectionPad2d(1),\n",
    "            nn.Conv2d(in_features, in_features, 3),\n",
    "            nn.InstanceNorm2d(in_features),\n",
    "        )\n",
    "\n",
    "    def forward(self, x):\n",
    "        return x + self.block(x)"
   ]
  },
  {
   "cell_type": "markdown",
   "metadata": {
    "id": "UmbPKP04aSnX"
   },
   "source": [
    "### Generator Class"
   ]
  },
  {
   "cell_type": "code",
   "execution_count": 13,
   "metadata": {
    "id": "xmDKP0l1aMHp"
   },
   "outputs": [],
   "source": [
    "class GeneratorResNet(nn.Module):\n",
    "    def __init__(self, num_residual_blocks=9):\n",
    "        super(GeneratorResNet, self).__init__()\n",
    "        out_features = 64\n",
    "        channels = 3\n",
    "        model = [\n",
    "            nn.ReflectionPad2d(3),\n",
    "            nn.Conv2d(channels, out_features, 7),\n",
    "            nn.InstanceNorm2d(out_features),\n",
    "            nn.ReLU(inplace=True),\n",
    "        ]\n",
    "        in_features = out_features\n",
    "        # Downsampling\n",
    "        for _ in range(2):\n",
    "            out_features *= 2\n",
    "            model += [\n",
    "                nn.Conv2d(in_features, out_features, 3, stride=2, padding=1),\n",
    "                nn.InstanceNorm2d(out_features),\n",
    "                nn.ReLU(inplace=True),\n",
    "            ]\n",
    "            in_features = out_features\n",
    "\n",
    "        # Residual blocks\n",
    "        for _ in range(num_residual_blocks):\n",
    "            model += [ResidualBlock(out_features)]\n",
    "\n",
    "        # Upsampling\n",
    "        for _ in range(2):\n",
    "            out_features //= 2\n",
    "            model += [\n",
    "                nn.Upsample(scale_factor=2),\n",
    "                nn.Conv2d(in_features, out_features, 3, stride=1, padding=1),\n",
    "                nn.InstanceNorm2d(out_features),\n",
    "                nn.ReLU(inplace=True),\n",
    "            ]\n",
    "            in_features = out_features\n",
    "\n",
    "        # Output layer\n",
    "        model += [nn.ReflectionPad2d(channels), nn.Conv2d(out_features, channels, 7), nn.Tanh()]\n",
    "        self.model = nn.Sequential(*model)\n",
    "        self.apply(weights_init_normal)\n",
    "    def forward(self, x):\n",
    "        return self.model(x)"
   ]
  },
  {
   "cell_type": "markdown",
   "metadata": {
    "id": "XsSnvlNCaXDH"
   },
   "source": [
    "### Discriminator Class"
   ]
  },
  {
   "cell_type": "code",
   "execution_count": 14,
   "metadata": {
    "id": "fmwLWRdIaWjh"
   },
   "outputs": [],
   "source": [
    "class Discriminator(nn.Module):\n",
    "    def __init__(self):\n",
    "        super(Discriminator, self).__init__()\n",
    "\n",
    "        channels, height, width = 3, IMAGE_SIZE, IMAGE_SIZE\n",
    "\n",
    "        def discriminator_block(in_filters, out_filters, normalize=True):\n",
    "            \"\"\"Returns downsampling layers of each discriminator block\"\"\"\n",
    "            layers = [nn.Conv2d(in_filters, out_filters, 4, stride=2, padding=1)]\n",
    "            if normalize:\n",
    "                layers.append(nn.InstanceNorm2d(out_filters))\n",
    "            layers.append(nn.LeakyReLU(0.2, inplace=True))\n",
    "            return layers\n",
    "\n",
    "        self.model = nn.Sequential(\n",
    "            *discriminator_block(channels, 64, normalize=False),\n",
    "            *discriminator_block(64, 128),\n",
    "            *discriminator_block(128, 256),\n",
    "            *discriminator_block(256, 512),\n",
    "            nn.ZeroPad2d((1, 0, 1, 0)),\n",
    "            nn.Conv2d(512, 1, 4, padding=1)\n",
    "        )\n",
    "        self.apply(weights_init_normal)\n",
    "\n",
    "    def forward(self, img):\n",
    "        return self.model(img)"
   ]
  },
  {
   "cell_type": "markdown",
   "metadata": {
    "id": "9mAmcQuRaaff"
   },
   "source": [
    "### How do we generate samples from our Cycle GAN"
   ]
  },
  {
   "cell_type": "code",
   "execution_count": 15,
   "metadata": {
    "id": "upk0_aJ-aUNc"
   },
   "outputs": [],
   "source": [
    "@torch.no_grad()\n",
    "def generate_sample():\n",
    "    data = next(iter(val_dl))\n",
    "    G_AB.eval()\n",
    "    G_BA.eval()\n",
    "\n",
    "    real_A, real_B = data\n",
    "    fake_B = G_AB(real_A)\n",
    "    fake_A = G_BA(real_B)\n",
    "    # Arange images along x-axis\n",
    "    real_A = make_grid(real_A, nrow=5, normalize=True)\n",
    "    real_B = make_grid(real_B, nrow=5, normalize=True)\n",
    "    fake_A = make_grid(fake_A, nrow=5, normalize=True)\n",
    "    fake_B = make_grid(fake_B, nrow=5, normalize=True)\n",
    "    # Arange images along y-axis\n",
    "    image_grid = torch.cat((real_A, fake_B, real_B, fake_A), 1)\n",
    "    show(image_grid.detach().cpu().permute(1,2,0).numpy(), sz=12)"
   ]
  },
  {
   "cell_type": "markdown",
   "metadata": {
    "id": "qsOxaKe5af43"
   },
   "source": [
    "### Defining the Generator Training Step"
   ]
  },
  {
   "cell_type": "code",
   "execution_count": 16,
   "metadata": {
    "id": "mkJZSb3cad-c"
   },
   "outputs": [],
   "source": [
    "def generator_train_step(Gs, optimizer, real_A, real_B):\n",
    "    G_AB, G_BA = Gs\n",
    "    optimizer.zero_grad()\n",
    "    loss_id_A = criterion_identity(G_BA(real_A), real_A)\n",
    "    loss_id_B = criterion_identity(G_AB(real_B), real_B)\n",
    "\n",
    "    loss_identity = (loss_id_A + loss_id_B) / 2\n",
    "    fake_B = G_AB(real_A)\n",
    "    loss_GAN_AB = criterion_GAN(D_B(fake_B), torch.Tensor(np.ones((len(real_A), 1, 16, 16))).to(device))\n",
    "    fake_A = G_BA(real_B)\n",
    "    loss_GAN_BA = criterion_GAN(D_A(fake_A), torch.Tensor(np.ones((len(real_A), 1, 16, 16))).to(device))\n",
    "\n",
    "    loss_GAN = (loss_GAN_AB + loss_GAN_BA) / 2\n",
    "    recov_A = G_BA(fake_B)\n",
    "    loss_cycle_A = criterion_cycle(recov_A, real_A)\n",
    "    recov_B = G_AB(fake_A)\n",
    "    loss_cycle_B = criterion_cycle(recov_B, real_B)\n",
    "\n",
    "    loss_cycle = (loss_cycle_A + loss_cycle_B) / 2\n",
    "    loss_G = loss_GAN + lambda_cyc * loss_cycle + lambda_id * loss_identity\n",
    "    loss_G.backward()\n",
    "    optimizer.step()\n",
    "    return loss_G, loss_identity, loss_GAN, loss_cycle, loss_G, fake_A, fake_B"
   ]
  },
  {
   "cell_type": "markdown",
   "metadata": {
    "id": "O4QgrwQgaj0O"
   },
   "source": [
    "### Defining the Discriminator Training Step"
   ]
  },
  {
   "cell_type": "code",
   "execution_count": 17,
   "metadata": {
    "id": "3IxsOwiRahdX"
   },
   "outputs": [],
   "source": [
    "def discriminator_train_step(D, real_data, fake_data, optimizer):\n",
    "    optimizer.zero_grad()\n",
    "    loss_real = criterion_GAN(D(real_data), torch.Tensor(np.ones((len(real_data), 1, 16, 16))).to(device))\n",
    "    loss_fake = criterion_GAN(D(fake_data.detach()), torch.Tensor(np.zeros((len(real_data), 1, 16, 16))).to(device))\n",
    "    loss_D = (loss_real + loss_fake) / 2\n",
    "    loss_D.backward()\n",
    "    optimizer.step()\n",
    "    return loss_D"
   ]
  },
  {
   "cell_type": "code",
   "execution_count": 18,
   "metadata": {
    "id": "tWulcziMalc0"
   },
   "outputs": [],
   "source": [
    "G_AB = GeneratorResNet().to(device)\n",
    "G_BA = GeneratorResNet().to(device)\n",
    "D_A = Discriminator().to(device)\n",
    "D_B = Discriminator().to(device)\n",
    "\n",
    "criterion_GAN = torch.nn.MSELoss()\n",
    "criterion_cycle = torch.nn.L1Loss()\n",
    "criterion_identity = torch.nn.L1Loss()\n",
    "\n",
    "optimizer_G = torch.optim.Adam(\n",
    "    itertools.chain(G_AB.parameters(), G_BA.parameters()), lr=0.0002, betas=(0.5, 0.999)\n",
    ")\n",
    "optimizer_D_A = torch.optim.Adam(D_A.parameters(), lr=0.0002, betas=(0.5, 0.999))\n",
    "optimizer_D_B = torch.optim.Adam(D_B.parameters(), lr=0.0002, betas=(0.5, 0.999))\n",
    "\n",
    "lambda_cyc, lambda_id = 10.0, 5.0"
   ]
  },
  {
   "cell_type": "markdown",
   "metadata": {
    "id": "qn7bVizmas1e"
   },
   "source": [
    "### Training the CYCLE GAN. Increase the number of epochs for better results"
   ]
  },
  {
   "cell_type": "code",
   "execution_count": null,
   "metadata": {},
   "outputs": [],
   "source": [
    "n_epochs = 15\n",
    "log = Report(n_epochs)\n",
    "for epoch in range(n_epochs):\n",
    "    N = len(trn_dl)\n",
    "    for bx, batch in enumerate(trn_dl):\n",
    "        real_A, real_B = batch\n",
    "\n",
    "        loss_G, loss_identity, loss_GAN, loss_cycle, loss_G, fake_A, fake_B = generator_train_step((G_AB,G_BA), optimizer_G, real_A, real_B)\n",
    "        loss_D_A = discriminator_train_step(D_A, real_A, fake_A, optimizer_D_A)\n",
    "        loss_D_B = discriminator_train_step(D_B, real_B, fake_B, optimizer_D_B)\n",
    "        loss_D = (loss_D_A + loss_D_B) / 2\n",
    "\n",
    "        log.record(epoch+(1+bx)/N, loss_D=loss_D.item(), loss_G=loss_G.item(),\n",
    "                   loss_GAN=loss_GAN.item(), loss_cycle=loss_cycle.item(),\n",
    "                   loss_identity=loss_identity.item(), end='\\r')\n",
    "    generate_sample()\n",
    "\n",
    "    log.report_avgs(epoch+1)"
   ]
  }
 ],
 "metadata": {
  "accelerator": "GPU",
  "colab": {
   "gpuType": "A100",
   "provenance": []
  },
  "kernelspec": {
   "display_name": "Python 3 (ipykernel)",
   "language": "python",
   "name": "python3"
  },
  "language_info": {
   "codemirror_mode": {
    "name": "ipython",
    "version": 3
   },
   "file_extension": ".py",
   "mimetype": "text/x-python",
   "name": "python",
   "nbconvert_exporter": "python",
   "pygments_lexer": "ipython3",
   "version": "3.11.5"
  }
 },
 "nbformat": 4,
 "nbformat_minor": 1
}
